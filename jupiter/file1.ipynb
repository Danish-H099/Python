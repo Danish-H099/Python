{
 "cells": [
  {
   "cell_type": "code",
   "execution_count": 2,
   "id": "2f15bdd8",
   "metadata": {},
   "outputs": [
    {
     "name": "stdout",
     "output_type": "stream",
     "text": [
      "Danish\n"
     ]
    }
   ],
   "source": [
    "print(\"Danish\")"
   ]
  },
  {
   "cell_type": "code",
   "execution_count": null,
   "id": "b244b172",
   "metadata": {},
   "outputs": [],
   "source": [
    "print(\"Hussain\")"
   ]
  },
  {
   "cell_type": "code",
   "execution_count": null,
   "id": "7f859748",
   "metadata": {},
   "outputs": [
    {
     "ename": "",
     "evalue": "",
     "output_type": "error",
     "traceback": [
      "\u001b[1;31mRunning cells with 'c:\\Users\\91990\\AppData\\Local\\Programs\\Python\\Python311\\python.exe' requires the ipykernel package.\n",
      "\u001b[1;31mRun the following command to install 'ipykernel' into the Python environment. \n",
      "\u001b[1;31mCommand: 'c:/Users/91990/AppData/Local/Programs/Python/Python311/python.exe -m pip install ipykernel -U --user --force-reinstall'"
     ]
    }
   ],
   "source": [
    "print(\"Dar\")"
   ]
  },
  {
   "cell_type": "code",
   "execution_count": null,
   "id": "94202829",
   "metadata": {},
   "outputs": [],
   "source": [
    "print(\"In vscode\")"
   ]
  }
 ],
 "metadata": {
  "kernelspec": {
   "display_name": "Python 3 (ipykernel)",
   "language": "python",
   "name": "python3"
  },
  "language_info": {
   "codemirror_mode": {
    "name": "ipython",
    "version": 3
   },
   "file_extension": ".py",
   "mimetype": "text/x-python",
   "name": "python",
   "nbconvert_exporter": "python",
   "pygments_lexer": "ipython3",
   "version": "3.11.1"
  }
 },
 "nbformat": 4,
 "nbformat_minor": 5
}
